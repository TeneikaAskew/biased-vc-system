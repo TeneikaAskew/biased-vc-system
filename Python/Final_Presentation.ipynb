{
  "nbformat": 4,
  "nbformat_minor": 0,
  "metadata": {
    "colab": {
      "name": "Final Presentation.ipynb",
      "provenance": [],
      "collapsed_sections": []
    },
    "kernelspec": {
      "name": "python3",
      "display_name": "Python 3"
    }
  },
  "cells": [
    {
      "cell_type": "code",
      "metadata": {
        "id": "zOEt5ocQu6Hn",
        "outputId": "886ff7db-4f7e-4b90-e3d8-d6b2fd56ac10",
        "colab": {
          "base_uri": "https://localhost:8080/",
          "height": 71
        }
      },
      "source": [
        "### Load relevant packages\n",
        "import pandas                  as pd\n",
        "import numpy                   as np\n",
        "import matplotlib.pyplot       as plt\n",
        "import seaborn                 as sns\n",
        "import statsmodels.formula.api as sm\n",
        "import os\n",
        "import random\n",
        "\n",
        "%matplotlib inline\n",
        "plt.style.use('ggplot')"
      ],
      "execution_count": null,
      "outputs": [
        {
          "output_type": "stream",
          "text": [
            "/usr/local/lib/python3.6/dist-packages/statsmodels/tools/_testing.py:19: FutureWarning: pandas.util.testing is deprecated. Use the functions in the public API at pandas.testing instead.\n",
            "  import pandas.util.testing as tm\n"
          ],
          "name": "stderr"
        }
      ]
    },
    {
      "cell_type": "code",
      "metadata": {
        "id": "bsQtxLKPvWgx",
        "outputId": "b99b2f85-ae1c-4dd1-ce79-dd0e9e817d2b",
        "colab": {
          "base_uri": "https://localhost:8080/",
          "height": 105
        }
      },
      "source": [
        "## Using file from the drive\n",
        "from google.colab import drive\n",
        "drive.mount('/content/drive')\n",
        "!ls\n",
        "df = pd.read_csv('/content/drive/Shared drives/Data Science for All - Womens Summit/Data/US Crunchbase Companies.csv')\n",
        "# df.head()"
      ],
      "execution_count": null,
      "outputs": [
        {
          "output_type": "stream",
          "text": [
            "Mounted at /content/drive\n",
            "drive  sample_data\n"
          ],
          "name": "stdout"
        },
        {
          "output_type": "stream",
          "text": [
            "/usr/local/lib/python3.6/dist-packages/IPython/core/interactiveshell.py:2718: DtypeWarning: Columns (6,18,26,28,32,33,34,38,39,41,42,43,44,45,46,53,56,74,76,78,82,83,90,94,96,97,101,102,103,104,105,107,108,109,110,111,112,114,115,118,120) have mixed types.Specify dtype option on import or set low_memory=False.\n",
            "  interactivity=interactivity, compiler=compiler, result=result)\n"
          ],
          "name": "stderr"
        }
      ]
    },
    {
      "cell_type": "code",
      "metadata": {
        "id": "rY-tlrkFNJul",
        "outputId": "47913c10-625b-49bb-c01c-71b51113bf12",
        "colab": {
          "base_uri": "https://localhost:8080/",
          "height": 34
        }
      },
      "source": [
        "# Women Founded or Led businesses\n",
        "df_women = df[df['Diversity Spotlight (US Only)'].astype(str).str.contains(\"Women\")]\n",
        "len(df_women)"
      ],
      "execution_count": null,
      "outputs": [
        {
          "output_type": "execute_result",
          "data": {
            "text/plain": [
              "6019"
            ]
          },
          "metadata": {
            "tags": []
          },
          "execution_count": 230
        }
      ]
    },
    {
      "cell_type": "code",
      "metadata": {
        "id": "Yh-VpT1kBCle"
      },
      "source": [
        "df_women = df_women[['Total Funding Amount Currency (in USD)', 'Estimated Revenue Range', 'Number of Investments',\n",
        "                 'Number of Exits (IPO)']]"
      ],
      "execution_count": null,
      "outputs": []
    },
    {
      "cell_type": "code",
      "metadata": {
        "id": "8Yz1X1JOxOpx"
      },
      "source": [
        "## CLEANING\n",
        "## Step 1: Cleaning and Formatting dataset to be used\n",
        "df_women.rename(columns={'Estimated Revenue Range': 'Estimated Revenue >= 1M'}, inplace=True)\n",
        "\n"
      ],
      "execution_count": null,
      "outputs": []
    },
    {
      "cell_type": "code",
      "metadata": {
        "id": "BidHaoq6eQsr",
        "outputId": "af5ca04f-c210-47ca-ead9-ab9d880cbe71",
        "colab": {
          "base_uri": "https://localhost:8080/",
          "height": 419
        }
      },
      "source": [
        "#revenue cleaned\n",
        "## 1 if greater than 1M; 0 otherwise\n",
        "df_women.loc[(df_women['Estimated Revenue >= 1M'] == 'Less than $1M'),'Estimated Revenue >= 1M']=0\n",
        "df_women.loc[~(df_women['Estimated Revenue >= 1M'] == 0),'Estimated Revenue >= 1M']=1\n",
        "df_women"
      ],
      "execution_count": null,
      "outputs": [
        {
          "output_type": "execute_result",
          "data": {
            "text/html": [
              "<div>\n",
              "<style scoped>\n",
              "    .dataframe tbody tr th:only-of-type {\n",
              "        vertical-align: middle;\n",
              "    }\n",
              "\n",
              "    .dataframe tbody tr th {\n",
              "        vertical-align: top;\n",
              "    }\n",
              "\n",
              "    .dataframe thead th {\n",
              "        text-align: right;\n",
              "    }\n",
              "</style>\n",
              "<table border=\"1\" class=\"dataframe\">\n",
              "  <thead>\n",
              "    <tr style=\"text-align: right;\">\n",
              "      <th></th>\n",
              "      <th>Total Funding Amount Currency (in USD)</th>\n",
              "      <th>Estimated Revenue &gt;= 1M</th>\n",
              "      <th>Number of Investments</th>\n",
              "      <th>Number of Exits (IPO)</th>\n",
              "    </tr>\n",
              "  </thead>\n",
              "  <tbody>\n",
              "    <tr>\n",
              "      <th>63</th>\n",
              "      <td>NaN</td>\n",
              "      <td>1</td>\n",
              "      <td>NaN</td>\n",
              "      <td>NaN</td>\n",
              "    </tr>\n",
              "    <tr>\n",
              "      <th>84</th>\n",
              "      <td>NaN</td>\n",
              "      <td>1</td>\n",
              "      <td>NaN</td>\n",
              "      <td>NaN</td>\n",
              "    </tr>\n",
              "    <tr>\n",
              "      <th>87</th>\n",
              "      <td>50000.0</td>\n",
              "      <td>0</td>\n",
              "      <td>NaN</td>\n",
              "      <td>NaN</td>\n",
              "    </tr>\n",
              "    <tr>\n",
              "      <th>105</th>\n",
              "      <td>NaN</td>\n",
              "      <td>1</td>\n",
              "      <td>NaN</td>\n",
              "      <td>NaN</td>\n",
              "    </tr>\n",
              "    <tr>\n",
              "      <th>106</th>\n",
              "      <td>500000.0</td>\n",
              "      <td>1</td>\n",
              "      <td>NaN</td>\n",
              "      <td>NaN</td>\n",
              "    </tr>\n",
              "    <tr>\n",
              "      <th>...</th>\n",
              "      <td>...</td>\n",
              "      <td>...</td>\n",
              "      <td>...</td>\n",
              "      <td>...</td>\n",
              "    </tr>\n",
              "    <tr>\n",
              "      <th>108896</th>\n",
              "      <td>NaN</td>\n",
              "      <td>0</td>\n",
              "      <td>NaN</td>\n",
              "      <td>NaN</td>\n",
              "    </tr>\n",
              "    <tr>\n",
              "      <th>108924</th>\n",
              "      <td>NaN</td>\n",
              "      <td>1</td>\n",
              "      <td>NaN</td>\n",
              "      <td>NaN</td>\n",
              "    </tr>\n",
              "    <tr>\n",
              "      <th>108951</th>\n",
              "      <td>NaN</td>\n",
              "      <td>0</td>\n",
              "      <td>NaN</td>\n",
              "      <td>NaN</td>\n",
              "    </tr>\n",
              "    <tr>\n",
              "      <th>108962</th>\n",
              "      <td>NaN</td>\n",
              "      <td>0</td>\n",
              "      <td>NaN</td>\n",
              "      <td>NaN</td>\n",
              "    </tr>\n",
              "    <tr>\n",
              "      <th>108964</th>\n",
              "      <td>NaN</td>\n",
              "      <td>1</td>\n",
              "      <td>NaN</td>\n",
              "      <td>NaN</td>\n",
              "    </tr>\n",
              "  </tbody>\n",
              "</table>\n",
              "<p>6019 rows × 4 columns</p>\n",
              "</div>"
            ],
            "text/plain": [
              "        Total Funding Amount Currency (in USD)  ... Number of Exits (IPO)\n",
              "63                                         NaN  ...                   NaN\n",
              "84                                         NaN  ...                   NaN\n",
              "87                                     50000.0  ...                   NaN\n",
              "105                                        NaN  ...                   NaN\n",
              "106                                   500000.0  ...                   NaN\n",
              "...                                        ...  ...                   ...\n",
              "108896                                     NaN  ...                   NaN\n",
              "108924                                     NaN  ...                   NaN\n",
              "108951                                     NaN  ...                   NaN\n",
              "108962                                     NaN  ...                   NaN\n",
              "108964                                     NaN  ...                   NaN\n",
              "\n",
              "[6019 rows x 4 columns]"
            ]
          },
          "metadata": {
            "tags": []
          },
          "execution_count": 13
        }
      ]
    },
    {
      "cell_type": "code",
      "metadata": {
        "id": "kU-P0HAZhhm-",
        "outputId": "2209d084-595f-4866-8dc4-5fff7916e5c9",
        "colab": {
          "base_uri": "https://localhost:8080/",
          "height": 68
        }
      },
      "source": [
        "# Remove string \"Total Funding Amount Currency (in USD)\" from the list of values\n",
        "# df_target = df_women[df_women['Total Funding Amount Currency (in USD)'] != \"Total Funding Amount Currency (in USD)\"]\n",
        "df_target= df_women\n",
        "\n",
        "# Find 25%, 50%, 75% quartiles of the non-empty Total Funding Amount Currency (in USD)\n",
        "low_value = df_target['Total Funding Amount Currency (in USD)'].dropna().astype('float').quantile(0.25)\n",
        "medium_value = df_target['Total Funding Amount Currency (in USD)'].dropna().astype('float').quantile(0.5)\n",
        "high_value = df_target['Total Funding Amount Currency (in USD)'].dropna().astype('float').quantile(0.75)\n",
        "print(\"The 25% quartile of non-empty total funding amount:\", low_value)\n",
        "print(\"The 50% quartile of non-empty total funding amount:\", medium_value)\n",
        "print(\"The 75% quartile of non-empty total funding amount:\", high_value)"
      ],
      "execution_count": null,
      "outputs": [
        {
          "output_type": "stream",
          "text": [
            "The 25% quartile of non-empty total funding amount: 400000.0\n",
            "The 50% quartile of non-empty total funding amount: 2200000.0\n",
            "The 75% quartile of non-empty total funding amount: 10500000.0\n"
          ],
          "name": "stdout"
        }
      ]
    },
    {
      "cell_type": "code",
      "metadata": {
        "id": "l2PQbucih5kb",
        "outputId": "f8a1f0c4-3158-4302-e695-ffb832fb4130",
        "colab": {
          "base_uri": "https://localhost:8080/",
          "height": 221
        }
      },
      "source": [
        "df_women['Total Funding Amount Currency (in USD)']"
      ],
      "execution_count": null,
      "outputs": [
        {
          "output_type": "execute_result",
          "data": {
            "text/plain": [
              "63             NaN\n",
              "84             NaN\n",
              "87         50000.0\n",
              "105            NaN\n",
              "106       500000.0\n",
              "            ...   \n",
              "108896         NaN\n",
              "108924         NaN\n",
              "108951         NaN\n",
              "108962         NaN\n",
              "108964         NaN\n",
              "Name: Total Funding Amount Currency (in USD), Length: 6019, dtype: float64"
            ]
          },
          "metadata": {
            "tags": []
          },
          "execution_count": 24
        }
      ]
    },
    {
      "cell_type": "code",
      "metadata": {
        "id": "UCWW_gUtrb0V"
      },
      "source": [
        "#KNN imputation\n",
        "\n",
        "from sklearn.impute import KNNImputer\n",
        "from sklearn.model_selection import train_test_split\n",
        "\n",
        "X_train = df_women[['Estimated Revenue >= 1M','Number of Exits (IPO)','Number of Investments']]\n",
        "y_train = df_women['Total Funding Amount Currency (in USD)']\n",
        "\n",
        "\n",
        "X_train, X_test, y_train, y_test = train_test_split(X_train,y_train,test_size=0.3)\n",
        "\n",
        "knn = KNNImputer(n_neighbors=5,add_indicator=True)\n",
        "knn.fit(X_train)\n",
        "X_train_imputed = pd.DataFrame(knn.transform(X_train))"
      ],
      "execution_count": null,
      "outputs": []
    },
    {
      "cell_type": "code",
      "metadata": {
        "id": "ZZRcMiAno7Au",
        "outputId": "8bf7906d-575c-4c01-c491-d63f0caf3dce",
        "colab": {
          "base_uri": "https://localhost:8080/",
          "height": 119
        }
      },
      "source": [
        "## number of missing values\n",
        "X_train_imputed.isna().sum()"
      ],
      "execution_count": null,
      "outputs": [
        {
          "output_type": "execute_result",
          "data": {
            "text/plain": [
              "0    0\n",
              "1    0\n",
              "2    0\n",
              "3    0\n",
              "4    0\n",
              "dtype: int64"
            ]
          },
          "metadata": {
            "tags": []
          },
          "execution_count": 26
        }
      ]
    },
    {
      "cell_type": "code",
      "metadata": {
        "id": "r5zuu0KgpVLD"
      },
      "source": [
        "#similarly impute other dataframes\n",
        "y_train = np.array(y_train).reshape(-1, 1)\n",
        "knn.fit(y_train)\n",
        "y_train_imputed = pd.DataFrame(knn.transform(y_train))\n",
        "\n",
        "knn.fit(X_test)\n",
        "X_test_imputed = pd.DataFrame(knn.transform(X_test))\n",
        "\n",
        "y_test = np.array(y_test).reshape(-1, 1)\n",
        "knn.fit(y_test)\n",
        "y_test_imputed = pd.DataFrame(knn.transform(y_test))"
      ],
      "execution_count": null,
      "outputs": []
    },
    {
      "cell_type": "code",
      "metadata": {
        "id": "to2JE4B5pFD9",
        "outputId": "0abdf207-9474-4857-92e0-5bbd2558a681",
        "colab": {
          "base_uri": "https://localhost:8080/",
          "height": 419
        }
      },
      "source": [
        "y_test_imputed"
      ],
      "execution_count": null,
      "outputs": [
        {
          "output_type": "execute_result",
          "data": {
            "text/html": [
              "<div>\n",
              "<style scoped>\n",
              "    .dataframe tbody tr th:only-of-type {\n",
              "        vertical-align: middle;\n",
              "    }\n",
              "\n",
              "    .dataframe tbody tr th {\n",
              "        vertical-align: top;\n",
              "    }\n",
              "\n",
              "    .dataframe thead th {\n",
              "        text-align: right;\n",
              "    }\n",
              "</style>\n",
              "<table border=\"1\" class=\"dataframe\">\n",
              "  <thead>\n",
              "    <tr style=\"text-align: right;\">\n",
              "      <th></th>\n",
              "      <th>0</th>\n",
              "      <th>1</th>\n",
              "    </tr>\n",
              "  </thead>\n",
              "  <tbody>\n",
              "    <tr>\n",
              "      <th>0</th>\n",
              "      <td>1.569450e+07</td>\n",
              "      <td>1.0</td>\n",
              "    </tr>\n",
              "    <tr>\n",
              "      <th>1</th>\n",
              "      <td>1.569450e+07</td>\n",
              "      <td>1.0</td>\n",
              "    </tr>\n",
              "    <tr>\n",
              "      <th>2</th>\n",
              "      <td>2.349977e+06</td>\n",
              "      <td>0.0</td>\n",
              "    </tr>\n",
              "    <tr>\n",
              "      <th>3</th>\n",
              "      <td>1.569450e+07</td>\n",
              "      <td>1.0</td>\n",
              "    </tr>\n",
              "    <tr>\n",
              "      <th>4</th>\n",
              "      <td>1.569450e+07</td>\n",
              "      <td>1.0</td>\n",
              "    </tr>\n",
              "    <tr>\n",
              "      <th>...</th>\n",
              "      <td>...</td>\n",
              "      <td>...</td>\n",
              "    </tr>\n",
              "    <tr>\n",
              "      <th>1801</th>\n",
              "      <td>1.569450e+07</td>\n",
              "      <td>1.0</td>\n",
              "    </tr>\n",
              "    <tr>\n",
              "      <th>1802</th>\n",
              "      <td>1.569450e+07</td>\n",
              "      <td>1.0</td>\n",
              "    </tr>\n",
              "    <tr>\n",
              "      <th>1803</th>\n",
              "      <td>1.569450e+07</td>\n",
              "      <td>1.0</td>\n",
              "    </tr>\n",
              "    <tr>\n",
              "      <th>1804</th>\n",
              "      <td>2.000000e+04</td>\n",
              "      <td>0.0</td>\n",
              "    </tr>\n",
              "    <tr>\n",
              "      <th>1805</th>\n",
              "      <td>1.569450e+07</td>\n",
              "      <td>1.0</td>\n",
              "    </tr>\n",
              "  </tbody>\n",
              "</table>\n",
              "<p>1806 rows × 2 columns</p>\n",
              "</div>"
            ],
            "text/plain": [
              "                 0    1\n",
              "0     1.569450e+07  1.0\n",
              "1     1.569450e+07  1.0\n",
              "2     2.349977e+06  0.0\n",
              "3     1.569450e+07  1.0\n",
              "4     1.569450e+07  1.0\n",
              "...            ...  ...\n",
              "1801  1.569450e+07  1.0\n",
              "1802  1.569450e+07  1.0\n",
              "1803  1.569450e+07  1.0\n",
              "1804  2.000000e+04  0.0\n",
              "1805  1.569450e+07  1.0\n",
              "\n",
              "[1806 rows x 2 columns]"
            ]
          },
          "metadata": {
            "tags": []
          },
          "execution_count": 28
        }
      ]
    },
    {
      "cell_type": "code",
      "metadata": {
        "id": "TXJJ-RjKoOjC"
      },
      "source": [
        "X_train_imputed.drop(X_train_imputed.columns[len(X_train_imputed.columns)-1], axis=1, inplace=True)\n",
        "X_test_imputed.drop(X_test_imputed.columns[len(X_test_imputed.columns)-1], axis=1, inplace=True)\n",
        "X_train_imputed.drop(X_train_imputed.columns[len(X_train_imputed.columns)-1], axis=1, inplace=True)\n",
        "X_test_imputed.drop(X_test_imputed.columns[len(X_test_imputed.columns)-1], axis=1, inplace=True)"
      ],
      "execution_count": null,
      "outputs": []
    },
    {
      "cell_type": "code",
      "metadata": {
        "id": "wL5EHaBQkfvC"
      },
      "source": [
        "y_train_imputed = y_train_imputed[0]\n",
        "y_test_imputed = y_test_imputed[0]"
      ],
      "execution_count": null,
      "outputs": []
    },
    {
      "cell_type": "code",
      "metadata": {
        "id": "G-tiXLwZlMni"
      },
      "source": [
        "for i in range(len(y_train_imputed)):\n",
        "  if(y_train_imputed[i] <= low_value):\n",
        "    y_train_imputed[i] = \"low\"\n",
        "  elif(y_train_imputed[i] <= medium_value):\n",
        "    y_train_imputed[i] = \"moderate\"\n",
        "  else:\n",
        "    y_train_imputed[i] = \"high\""
      ],
      "execution_count": null,
      "outputs": []
    },
    {
      "cell_type": "code",
      "metadata": {
        "id": "m1XztbWBlBru",
        "outputId": "2f39fb3f-2f68-4d18-8bc6-5799277cdc75",
        "colab": {
          "base_uri": "https://localhost:8080/",
          "height": 272
        }
      },
      "source": [
        "for i in range(len(y_test_imputed)):\n",
        "  if(y_test_imputed[i] <= low_value):\n",
        "    y_test_imputed[i] = \"low\"\n",
        "  elif(y_test_imputed[i] <= medium_value):\n",
        "    y_test_imputed[i] = \"moderate\"\n",
        "  else:\n",
        "    y_test_imputed[i] = \"high\""
      ],
      "execution_count": null,
      "outputs": [
        {
          "output_type": "stream",
          "text": [
            "/usr/local/lib/python3.6/dist-packages/ipykernel_launcher.py:7: SettingWithCopyWarning: \n",
            "A value is trying to be set on a copy of a slice from a DataFrame\n",
            "\n",
            "See the caveats in the documentation: https://pandas.pydata.org/pandas-docs/stable/user_guide/indexing.html#returning-a-view-versus-a-copy\n",
            "  import sys\n",
            "/usr/local/lib/python3.6/dist-packages/ipykernel_launcher.py:3: SettingWithCopyWarning: \n",
            "A value is trying to be set on a copy of a slice from a DataFrame\n",
            "\n",
            "See the caveats in the documentation: https://pandas.pydata.org/pandas-docs/stable/user_guide/indexing.html#returning-a-view-versus-a-copy\n",
            "  This is separate from the ipykernel package so we can avoid doing imports until\n",
            "/usr/local/lib/python3.6/dist-packages/ipykernel_launcher.py:5: SettingWithCopyWarning: \n",
            "A value is trying to be set on a copy of a slice from a DataFrame\n",
            "\n",
            "See the caveats in the documentation: https://pandas.pydata.org/pandas-docs/stable/user_guide/indexing.html#returning-a-view-versus-a-copy\n",
            "  \"\"\"\n"
          ],
          "name": "stderr"
        }
      ]
    },
    {
      "cell_type": "code",
      "metadata": {
        "id": "ky7kdBNUTMN2",
        "outputId": "27aadb9b-7c57-44a3-8ae6-3557d6873b0f",
        "colab": {
          "base_uri": "https://localhost:8080/",
          "height": 85
        }
      },
      "source": [
        "pd.Series(y_train_imputed).value_counts()"
      ],
      "execution_count": null,
      "outputs": [
        {
          "output_type": "execute_result",
          "data": {
            "text/plain": [
              "high        3396\n",
              "moderate     418\n",
              "low          399\n",
              "Name: 0, dtype: int64"
            ]
          },
          "metadata": {
            "tags": []
          },
          "execution_count": 33
        }
      ]
    },
    {
      "cell_type": "code",
      "metadata": {
        "id": "49Kull3VIYdv"
      },
      "source": [
        "from sklearn.tree import DecisionTreeClassifier # Import Decision Tree Classifier\n",
        "from sklearn.model_selection import train_test_split # Import train_test_split function\n",
        "from sklearn import metrics\n",
        "from sklearn import preprocessing"
      ],
      "execution_count": null,
      "outputs": []
    },
    {
      "cell_type": "code",
      "metadata": {
        "id": "cSvd2Ej3NuRD",
        "outputId": "74d81c6f-c47b-4799-b633-0b0151d5f2e5",
        "colab": {
          "base_uri": "https://localhost:8080/",
          "height": 105
        }
      },
      "source": [
        "#SMOTE\n",
        "from imblearn.over_sampling import SMOTE"
      ],
      "execution_count": null,
      "outputs": [
        {
          "output_type": "stream",
          "text": [
            "/usr/local/lib/python3.6/dist-packages/sklearn/externals/six.py:31: FutureWarning: The module is deprecated in version 0.21 and will be removed in version 0.23 since we've dropped support for Python 2.7. Please rely on the official version of six (https://pypi.org/project/six/).\n",
            "  \"(https://pypi.org/project/six/).\", FutureWarning)\n",
            "/usr/local/lib/python3.6/dist-packages/sklearn/utils/deprecation.py:144: FutureWarning: The sklearn.neighbors.base module is  deprecated in version 0.22 and will be removed in version 0.24. The corresponding classes / functions should instead be imported from sklearn.neighbors. Anything that cannot be imported from sklearn.neighbors is now part of the private API.\n",
            "  warnings.warn(message, FutureWarning)\n"
          ],
          "name": "stderr"
        }
      ]
    },
    {
      "cell_type": "code",
      "metadata": {
        "id": "6-kE6swsN2MN",
        "outputId": "ad6dbbaa-6ea8-4266-ed17-90761d2eaa11",
        "colab": {
          "base_uri": "https://localhost:8080/",
          "height": 105
        }
      },
      "source": [
        "# transform the dataset\n",
        "oversample = SMOTE()\n",
        "X_train_imputed, y_train_imputed = oversample.fit_resample(X_train_imputed, y_train_imputed)"
      ],
      "execution_count": null,
      "outputs": [
        {
          "output_type": "stream",
          "text": [
            "/usr/local/lib/python3.6/dist-packages/sklearn/utils/deprecation.py:87: FutureWarning: Function safe_indexing is deprecated; safe_indexing is deprecated in version 0.22 and will be removed in version 0.24.\n",
            "  warnings.warn(msg, category=FutureWarning)\n",
            "/usr/local/lib/python3.6/dist-packages/sklearn/utils/deprecation.py:87: FutureWarning: Function safe_indexing is deprecated; safe_indexing is deprecated in version 0.22 and will be removed in version 0.24.\n",
            "  warnings.warn(msg, category=FutureWarning)\n"
          ],
          "name": "stderr"
        }
      ]
    },
    {
      "cell_type": "code",
      "metadata": {
        "id": "S3dtd33ubNgl"
      },
      "source": [
        "# X_train, X_test, y_train, y_test = train_test_split(X, y, test_size=0.3) # 70% training and 30% test"
      ],
      "execution_count": null,
      "outputs": []
    },
    {
      "cell_type": "code",
      "metadata": {
        "id": "2wHy_Pz6dM7g"
      },
      "source": [
        "def plot_graph(X, y, title, xlabel, ylabel, need_log_x, lab):\n",
        "    plt.plot(X, y, label=lab)\n",
        "    if (need_log_x == 1):\n",
        "        plt.xscale('log')\n",
        "    plt.title(title)\n",
        "    plt.xlabel(xlabel)\n",
        "    plt.ylabel(ylabel)\n",
        "    plt.grid()\n",
        "    if lab:\n",
        "        plt.legend()"
      ],
      "execution_count": null,
      "outputs": []
    },
    {
      "cell_type": "code",
      "metadata": {
        "id": "VA7mTXYbifsR",
        "outputId": "506bb8a5-94cc-4267-ade5-e74900a26764",
        "colab": {
          "base_uri": "https://localhost:8080/",
          "height": 34
        }
      },
      "source": [
        "dt = DecisionTreeClassifier(max_depth = 2)\n",
        "dt = dt.fit(X_train_imputed, y_train_imputed)\n",
        "score = dt.score(X_test_imputed, y_test_imputed)\n",
        "print(score)"
      ],
      "execution_count": null,
      "outputs": [
        {
          "output_type": "stream",
          "text": [
            "0.602436323366556\n"
          ],
          "name": "stdout"
        }
      ]
    },
    {
      "cell_type": "code",
      "metadata": {
        "id": "bsZ-Dv4co9A-",
        "outputId": "6779501a-d310-4dec-fdcb-93cb520352b3",
        "colab": {
          "base_uri": "https://localhost:8080/",
          "height": 136
        }
      },
      "source": [
        "X_train_imputed"
      ],
      "execution_count": null,
      "outputs": [
        {
          "output_type": "execute_result",
          "data": {
            "text/plain": [
              "array([[1. , 3.2, 2.4],\n",
              "       [1. , 3.2, 2.4],\n",
              "       [1. , 3.2, 2.4],\n",
              "       ...,\n",
              "       [1. , 3.2, 2.4],\n",
              "       [1. , 3.2, 2.4],\n",
              "       [1. , 3.2, 2.4]])"
            ]
          },
          "metadata": {
            "tags": []
          },
          "execution_count": 44
        }
      ]
    },
    {
      "cell_type": "code",
      "metadata": {
        "id": "OS3pmGVVqeKq",
        "outputId": "3de1a549-66d7-4c6b-f83b-97acfb3cdb40",
        "colab": {
          "base_uri": "https://localhost:8080/",
          "height": 439
        }
      },
      "source": [
        "import graphviz\n",
        "from sklearn import tree\n",
        "feature_cols = ['Estimated Revenue >= 1M','Number of Exits (IPO)','Number of Investments']\n",
        "# DOT data\n",
        "dot_data = tree.export_graphviz(dt, out_file=None, \n",
        "                                feature_names=feature_cols,  \n",
        "                                class_names=['high','moderate','low'],filled = True)\n",
        "\n",
        "# Draw graph\n",
        "graph = graphviz.Source(dot_data, format=\"png\") \n",
        "graph"
      ],
      "execution_count": null,
      "outputs": [
        {
          "output_type": "execute_result",
          "data": {
            "text/plain": [
              "<graphviz.files.Source at 0x7f4ecedca080>"
            ],
            "image/svg+xml": "<?xml version=\"1.0\" encoding=\"UTF-8\" standalone=\"no\"?>\n<!DOCTYPE svg PUBLIC \"-//W3C//DTD SVG 1.1//EN\"\n \"http://www.w3.org/Graphics/SVG/1.1/DTD/svg11.dtd\">\n<!-- Generated by graphviz version 2.40.1 (20161225.0304)\n -->\n<!-- Title: Tree Pages: 1 -->\n<svg width=\"678pt\" height=\"314pt\"\n viewBox=\"0.00 0.00 678.00 314.00\" xmlns=\"http://www.w3.org/2000/svg\" xmlns:xlink=\"http://www.w3.org/1999/xlink\">\n<g id=\"graph0\" class=\"graph\" transform=\"scale(1 1) rotate(0) translate(4 310)\">\n<title>Tree</title>\n<polygon fill=\"#ffffff\" stroke=\"transparent\" points=\"-4,4 -4,-310 674,-310 674,4 -4,4\"/>\n<!-- 0 -->\n<g id=\"node1\" class=\"node\">\n<title>0</title>\n<polygon fill=\"#ffffff\" stroke=\"#000000\" points=\"439,-306 218,-306 218,-223 439,-223 439,-306\"/>\n<text text-anchor=\"middle\" x=\"328.5\" y=\"-290.8\" font-family=\"Times,serif\" font-size=\"14.00\" fill=\"#000000\">Estimated Revenue &gt;= 1M &lt;= 0.99</text>\n<text text-anchor=\"middle\" x=\"328.5\" y=\"-275.8\" font-family=\"Times,serif\" font-size=\"14.00\" fill=\"#000000\">gini = 0.667</text>\n<text text-anchor=\"middle\" x=\"328.5\" y=\"-260.8\" font-family=\"Times,serif\" font-size=\"14.00\" fill=\"#000000\">samples = 10236</text>\n<text text-anchor=\"middle\" x=\"328.5\" y=\"-245.8\" font-family=\"Times,serif\" font-size=\"14.00\" fill=\"#000000\">value = [3412, 3412, 3412]</text>\n<text text-anchor=\"middle\" x=\"328.5\" y=\"-230.8\" font-family=\"Times,serif\" font-size=\"14.00\" fill=\"#000000\">class = high</text>\n</g>\n<!-- 1 -->\n<g id=\"node2\" class=\"node\">\n<title>1</title>\n<polygon fill=\"#fcfafe\" stroke=\"#000000\" points=\"323.5,-187 117.5,-187 117.5,-104 323.5,-104 323.5,-187\"/>\n<text text-anchor=\"middle\" x=\"220.5\" y=\"-171.8\" font-family=\"Times,serif\" font-size=\"14.00\" fill=\"#000000\">Number of Exits (IPO) &lt;= 2.812</text>\n<text text-anchor=\"middle\" x=\"220.5\" y=\"-156.8\" font-family=\"Times,serif\" font-size=\"14.00\" fill=\"#000000\">gini = 0.662</text>\n<text text-anchor=\"middle\" x=\"220.5\" y=\"-141.8\" font-family=\"Times,serif\" font-size=\"14.00\" fill=\"#000000\">samples = 3321</text>\n<text text-anchor=\"middle\" x=\"220.5\" y=\"-126.8\" font-family=\"Times,serif\" font-size=\"14.00\" fill=\"#000000\">value = [929, 1170, 1222]</text>\n<text text-anchor=\"middle\" x=\"220.5\" y=\"-111.8\" font-family=\"Times,serif\" font-size=\"14.00\" fill=\"#000000\">class = low</text>\n</g>\n<!-- 0&#45;&gt;1 -->\n<g id=\"edge1\" class=\"edge\">\n<title>0&#45;&gt;1</title>\n<path fill=\"none\" stroke=\"#000000\" d=\"M290.7268,-222.8796C282.4713,-213.7832 273.658,-204.0722 265.1626,-194.7116\"/>\n<polygon fill=\"#000000\" stroke=\"#000000\" points=\"267.7467,-192.3509 258.4344,-187.2981 262.5632,-197.0553 267.7467,-192.3509\"/>\n<text text-anchor=\"middle\" x=\"257.2244\" y=\"-208.5688\" font-family=\"Times,serif\" font-size=\"14.00\" fill=\"#000000\">True</text>\n</g>\n<!-- 4 -->\n<g id=\"node5\" class=\"node\">\n<title>4</title>\n<polygon fill=\"#fef9f5\" stroke=\"#000000\" points=\"533,-187 342,-187 342,-104 533,-104 533,-187\"/>\n<text text-anchor=\"middle\" x=\"437.5\" y=\"-171.8\" font-family=\"Times,serif\" font-size=\"14.00\" fill=\"#000000\">Number of Exits (IPO) &lt;= 2.4</text>\n<text text-anchor=\"middle\" x=\"437.5\" y=\"-156.8\" font-family=\"Times,serif\" font-size=\"14.00\" fill=\"#000000\">gini = 0.666</text>\n<text text-anchor=\"middle\" x=\"437.5\" y=\"-141.8\" font-family=\"Times,serif\" font-size=\"14.00\" fill=\"#000000\">samples = 6915</text>\n<text text-anchor=\"middle\" x=\"437.5\" y=\"-126.8\" font-family=\"Times,serif\" font-size=\"14.00\" fill=\"#000000\">value = [2483, 2242, 2190]</text>\n<text text-anchor=\"middle\" x=\"437.5\" y=\"-111.8\" font-family=\"Times,serif\" font-size=\"14.00\" fill=\"#000000\">class = high</text>\n</g>\n<!-- 0&#45;&gt;4 -->\n<g id=\"edge4\" class=\"edge\">\n<title>0&#45;&gt;4</title>\n<path fill=\"none\" stroke=\"#000000\" d=\"M366.6229,-222.8796C374.9549,-213.7832 383.8498,-204.0722 392.4239,-194.7116\"/>\n<polygon fill=\"#000000\" stroke=\"#000000\" points=\"395.0408,-197.0363 399.2144,-187.2981 389.8789,-192.3081 395.0408,-197.0363\"/>\n<text text-anchor=\"middle\" x=\"400.3098\" y=\"-208.5741\" font-family=\"Times,serif\" font-size=\"14.00\" fill=\"#000000\">False</text>\n</g>\n<!-- 2 -->\n<g id=\"node3\" class=\"node\">\n<title>2</title>\n<polygon fill=\"#fcfafe\" stroke=\"#000000\" points=\"169,-68 0,-68 0,0 169,0 169,-68\"/>\n<text text-anchor=\"middle\" x=\"84.5\" y=\"-52.8\" font-family=\"Times,serif\" font-size=\"14.00\" fill=\"#000000\">gini = 0.662</text>\n<text text-anchor=\"middle\" x=\"84.5\" y=\"-37.8\" font-family=\"Times,serif\" font-size=\"14.00\" fill=\"#000000\">samples = 3313</text>\n<text text-anchor=\"middle\" x=\"84.5\" y=\"-22.8\" font-family=\"Times,serif\" font-size=\"14.00\" fill=\"#000000\">value = [928, 1163, 1222]</text>\n<text text-anchor=\"middle\" x=\"84.5\" y=\"-7.8\" font-family=\"Times,serif\" font-size=\"14.00\" fill=\"#000000\">class = low</text>\n</g>\n<!-- 1&#45;&gt;2 -->\n<g id=\"edge2\" class=\"edge\">\n<title>1&#45;&gt;2</title>\n<path fill=\"none\" stroke=\"#000000\" d=\"M169.8586,-103.9815C158.2001,-94.4232 145.812,-84.2668 134.1941,-74.7419\"/>\n<polygon fill=\"#000000\" stroke=\"#000000\" points=\"136.2448,-71.8972 126.2925,-68.2637 131.8067,-77.3105 136.2448,-71.8972\"/>\n</g>\n<!-- 3 -->\n<g id=\"node4\" class=\"node\">\n<title>3</title>\n<polygon fill=\"#55e993\" stroke=\"#000000\" points=\"298,-68 187,-68 187,0 298,0 298,-68\"/>\n<text text-anchor=\"middle\" x=\"242.5\" y=\"-52.8\" font-family=\"Times,serif\" font-size=\"14.00\" fill=\"#000000\">gini = 0.219</text>\n<text text-anchor=\"middle\" x=\"242.5\" y=\"-37.8\" font-family=\"Times,serif\" font-size=\"14.00\" fill=\"#000000\">samples = 8</text>\n<text text-anchor=\"middle\" x=\"242.5\" y=\"-22.8\" font-family=\"Times,serif\" font-size=\"14.00\" fill=\"#000000\">value = [1, 7, 0]</text>\n<text text-anchor=\"middle\" x=\"242.5\" y=\"-7.8\" font-family=\"Times,serif\" font-size=\"14.00\" fill=\"#000000\">class = moderate</text>\n</g>\n<!-- 1&#45;&gt;3 -->\n<g id=\"edge3\" class=\"edge\">\n<title>1&#45;&gt;3</title>\n<path fill=\"none\" stroke=\"#000000\" d=\"M228.692,-103.9815C230.3422,-95.618 232.0827,-86.7965 233.7511,-78.3409\"/>\n<polygon fill=\"#000000\" stroke=\"#000000\" points=\"237.2374,-78.7521 235.7395,-68.2637 230.3698,-77.397 237.2374,-78.7521\"/>\n</g>\n<!-- 5 -->\n<g id=\"node6\" class=\"node\">\n<title>5</title>\n<polygon fill=\"#e78b49\" stroke=\"#000000\" points=\"475,-68 358,-68 358,0 475,0 475,-68\"/>\n<text text-anchor=\"middle\" x=\"416.5\" y=\"-52.8\" font-family=\"Times,serif\" font-size=\"14.00\" fill=\"#000000\">gini = 0.144</text>\n<text text-anchor=\"middle\" x=\"416.5\" y=\"-37.8\" font-family=\"Times,serif\" font-size=\"14.00\" fill=\"#000000\">samples = 52</text>\n<text text-anchor=\"middle\" x=\"416.5\" y=\"-22.8\" font-family=\"Times,serif\" font-size=\"14.00\" fill=\"#000000\">value = [48, 3, 1]</text>\n<text text-anchor=\"middle\" x=\"416.5\" y=\"-7.8\" font-family=\"Times,serif\" font-size=\"14.00\" fill=\"#000000\">class = high</text>\n</g>\n<!-- 4&#45;&gt;5 -->\n<g id=\"edge5\" class=\"edge\">\n<title>4&#45;&gt;5</title>\n<path fill=\"none\" stroke=\"#000000\" d=\"M429.6804,-103.9815C428.1052,-95.618 426.4437,-86.7965 424.8512,-78.3409\"/>\n<polygon fill=\"#000000\" stroke=\"#000000\" points=\"428.2437,-77.4431 422.9532,-68.2637 421.3647,-78.7387 428.2437,-77.4431\"/>\n</g>\n<!-- 6 -->\n<g id=\"node7\" class=\"node\">\n<title>6</title>\n<polygon fill=\"#fefaf7\" stroke=\"#000000\" points=\"670,-68 493,-68 493,0 670,0 670,-68\"/>\n<text text-anchor=\"middle\" x=\"581.5\" y=\"-52.8\" font-family=\"Times,serif\" font-size=\"14.00\" fill=\"#000000\">gini = 0.666</text>\n<text text-anchor=\"middle\" x=\"581.5\" y=\"-37.8\" font-family=\"Times,serif\" font-size=\"14.00\" fill=\"#000000\">samples = 6863</text>\n<text text-anchor=\"middle\" x=\"581.5\" y=\"-22.8\" font-family=\"Times,serif\" font-size=\"14.00\" fill=\"#000000\">value = [2435, 2239, 2189]</text>\n<text text-anchor=\"middle\" x=\"581.5\" y=\"-7.8\" font-family=\"Times,serif\" font-size=\"14.00\" fill=\"#000000\">class = high</text>\n</g>\n<!-- 4&#45;&gt;6 -->\n<g id=\"edge6\" class=\"edge\">\n<title>4&#45;&gt;6</title>\n<path fill=\"none\" stroke=\"#000000\" d=\"M491.1203,-103.9815C503.5833,-94.3313 516.8338,-84.0714 529.2373,-74.4673\"/>\n<polygon fill=\"#000000\" stroke=\"#000000\" points=\"531.4851,-77.1534 537.2492,-68.2637 527.1995,-71.6186 531.4851,-77.1534\"/>\n</g>\n</g>\n</svg>\n"
          },
          "metadata": {
            "tags": []
          },
          "execution_count": 250
        }
      ]
    },
    {
      "cell_type": "code",
      "metadata": {
        "id": "IottMWr_qfAh"
      },
      "source": [
        ""
      ],
      "execution_count": null,
      "outputs": []
    },
    {
      "cell_type": "code",
      "metadata": {
        "id": "ZeVcximwybju",
        "outputId": "02eb39c0-405d-4aaf-9cb4-9635fd6a2a72",
        "colab": {
          "base_uri": "https://localhost:8080/",
          "height": 776
        }
      },
      "source": [
        "import graphviz\n",
        "# DOT data\n",
        "dot_data = tree.export_graphviz(dt, out_file=None, \n",
        "                                feature_names=feature_cols,  \n",
        "                                class_names=['high','low','moderate'],\n",
        "                                filled=True)\n",
        "\n",
        "# Draw graph\n",
        "graph = graphviz.Source(dot_data, format=\"png\") \n",
        "graph"
      ],
      "execution_count": null,
      "outputs": [
        {
          "output_type": "execute_result",
          "data": {
            "text/plain": [
              "<graphviz.files.Source at 0x7fb62419f4e0>"
            ],
            "image/svg+xml": "<?xml version=\"1.0\" encoding=\"UTF-8\" standalone=\"no\"?>\n<!DOCTYPE svg PUBLIC \"-//W3C//DTD SVG 1.1//EN\"\n \"http://www.w3.org/Graphics/SVG/1.1/DTD/svg11.dtd\">\n<!-- Generated by graphviz version 2.40.1 (20161225.0304)\n -->\n<!-- Title: Tree Pages: 1 -->\n<svg width=\"602pt\" height=\"552pt\"\n viewBox=\"0.00 0.00 602.00 552.00\" xmlns=\"http://www.w3.org/2000/svg\" xmlns:xlink=\"http://www.w3.org/1999/xlink\">\n<g id=\"graph0\" class=\"graph\" transform=\"scale(1 1) rotate(0) translate(4 548)\">\n<title>Tree</title>\n<polygon fill=\"#ffffff\" stroke=\"transparent\" points=\"-4,4 -4,-548 598,-548 598,4 -4,4\"/>\n<!-- 0 -->\n<g id=\"node1\" class=\"node\">\n<title>0</title>\n<polygon fill=\"#ffffff\" stroke=\"#000000\" points=\"252.5,-544 75.5,-544 75.5,-461 252.5,-461 252.5,-544\"/>\n<text text-anchor=\"middle\" x=\"164\" y=\"-528.8\" font-family=\"Times,serif\" font-size=\"14.00\" fill=\"#000000\">Funding &gt;= 200K &lt;= 0.5</text>\n<text text-anchor=\"middle\" x=\"164\" y=\"-513.8\" font-family=\"Times,serif\" font-size=\"14.00\" fill=\"#000000\">gini = 0.667</text>\n<text text-anchor=\"middle\" x=\"164\" y=\"-498.8\" font-family=\"Times,serif\" font-size=\"14.00\" fill=\"#000000\">samples = 8523</text>\n<text text-anchor=\"middle\" x=\"164\" y=\"-483.8\" font-family=\"Times,serif\" font-size=\"14.00\" fill=\"#000000\">value = [2843, 2837, 2843]</text>\n<text text-anchor=\"middle\" x=\"164\" y=\"-468.8\" font-family=\"Times,serif\" font-size=\"14.00\" fill=\"#000000\">class = high</text>\n</g>\n<!-- 1 -->\n<g id=\"node2\" class=\"node\">\n<title>1</title>\n<polygon fill=\"#39e581\" stroke=\"#000000\" points=\"132,-417.5 0,-417.5 0,-349.5 132,-349.5 132,-417.5\"/>\n<text text-anchor=\"middle\" x=\"66\" y=\"-402.3\" font-family=\"Times,serif\" font-size=\"14.00\" fill=\"#000000\">gini = 0.0</text>\n<text text-anchor=\"middle\" x=\"66\" y=\"-387.3\" font-family=\"Times,serif\" font-size=\"14.00\" fill=\"#000000\">samples = 2837</text>\n<text text-anchor=\"middle\" x=\"66\" y=\"-372.3\" font-family=\"Times,serif\" font-size=\"14.00\" fill=\"#000000\">value = [0, 2837, 0]</text>\n<text text-anchor=\"middle\" x=\"66\" y=\"-357.3\" font-family=\"Times,serif\" font-size=\"14.00\" fill=\"#000000\">class = low</text>\n</g>\n<!-- 0&#45;&gt;1 -->\n<g id=\"edge1\" class=\"edge\">\n<title>0&#45;&gt;1</title>\n<path fill=\"none\" stroke=\"#000000\" d=\"M129.7244,-460.8796C120.3065,-449.4436 110.0887,-437.0363 100.65,-425.575\"/>\n<polygon fill=\"#000000\" stroke=\"#000000\" points=\"103.3182,-423.3093 94.2594,-417.8149 97.9147,-427.7592 103.3182,-423.3093\"/>\n<text text-anchor=\"middle\" x=\"91.8513\" y=\"-438.9987\" font-family=\"Times,serif\" font-size=\"14.00\" fill=\"#000000\">True</text>\n</g>\n<!-- 2 -->\n<g id=\"node3\" class=\"node\">\n<title>2</title>\n<polygon fill=\"#ffffff\" stroke=\"#000000\" points=\"373.5,-425 150.5,-425 150.5,-342 373.5,-342 373.5,-425\"/>\n<text text-anchor=\"middle\" x=\"262\" y=\"-409.8\" font-family=\"Times,serif\" font-size=\"14.00\" fill=\"#000000\">Number of Exits (IPO) &gt;= 1 &lt;= 0.5</text>\n<text text-anchor=\"middle\" x=\"262\" y=\"-394.8\" font-family=\"Times,serif\" font-size=\"14.00\" fill=\"#000000\">gini = 0.5</text>\n<text text-anchor=\"middle\" x=\"262\" y=\"-379.8\" font-family=\"Times,serif\" font-size=\"14.00\" fill=\"#000000\">samples = 5686</text>\n<text text-anchor=\"middle\" x=\"262\" y=\"-364.8\" font-family=\"Times,serif\" font-size=\"14.00\" fill=\"#000000\">value = [2843, 0, 2843]</text>\n<text text-anchor=\"middle\" x=\"262\" y=\"-349.8\" font-family=\"Times,serif\" font-size=\"14.00\" fill=\"#000000\">class = high</text>\n</g>\n<!-- 0&#45;&gt;2 -->\n<g id=\"edge2\" class=\"edge\">\n<title>0&#45;&gt;2</title>\n<path fill=\"none\" stroke=\"#000000\" d=\"M198.2756,-460.8796C205.6184,-451.9633 213.4476,-442.4565 221.0146,-433.268\"/>\n<polygon fill=\"#000000\" stroke=\"#000000\" points=\"223.9227,-435.2424 227.5781,-425.2981 218.5192,-430.7924 223.9227,-435.2424\"/>\n<text text-anchor=\"middle\" x=\"229.9862\" y=\"-446.4818\" font-family=\"Times,serif\" font-size=\"14.00\" fill=\"#000000\">False</text>\n</g>\n<!-- 3 -->\n<g id=\"node4\" class=\"node\">\n<title>3</title>\n<polygon fill=\"#8139e5\" stroke=\"#000000\" points=\"230,-298.5 98,-298.5 98,-230.5 230,-230.5 230,-298.5\"/>\n<text text-anchor=\"middle\" x=\"164\" y=\"-283.3\" font-family=\"Times,serif\" font-size=\"14.00\" fill=\"#000000\">gini = 0.0</text>\n<text text-anchor=\"middle\" x=\"164\" y=\"-268.3\" font-family=\"Times,serif\" font-size=\"14.00\" fill=\"#000000\">samples = 1699</text>\n<text text-anchor=\"middle\" x=\"164\" y=\"-253.3\" font-family=\"Times,serif\" font-size=\"14.00\" fill=\"#000000\">value = [0, 0, 1699]</text>\n<text text-anchor=\"middle\" x=\"164\" y=\"-238.3\" font-family=\"Times,serif\" font-size=\"14.00\" fill=\"#000000\">class = moderate</text>\n</g>\n<!-- 2&#45;&gt;3 -->\n<g id=\"edge3\" class=\"edge\">\n<title>2&#45;&gt;3</title>\n<path fill=\"none\" stroke=\"#000000\" d=\"M227.7244,-341.8796C218.3065,-330.4436 208.0887,-318.0363 198.65,-306.575\"/>\n<polygon fill=\"#000000\" stroke=\"#000000\" points=\"201.3182,-304.3093 192.2594,-298.8149 195.9147,-308.7592 201.3182,-304.3093\"/>\n</g>\n<!-- 4 -->\n<g id=\"node5\" class=\"node\">\n<title>4</title>\n<polygon fill=\"#efb489\" stroke=\"#000000\" points=\"474,-306 248,-306 248,-223 474,-223 474,-306\"/>\n<text text-anchor=\"middle\" x=\"361\" y=\"-290.8\" font-family=\"Times,serif\" font-size=\"14.00\" fill=\"#000000\">Number of Investments &gt;= 1 &lt;= 0.5</text>\n<text text-anchor=\"middle\" x=\"361\" y=\"-275.8\" font-family=\"Times,serif\" font-size=\"14.00\" fill=\"#000000\">gini = 0.409</text>\n<text text-anchor=\"middle\" x=\"361\" y=\"-260.8\" font-family=\"Times,serif\" font-size=\"14.00\" fill=\"#000000\">samples = 3987</text>\n<text text-anchor=\"middle\" x=\"361\" y=\"-245.8\" font-family=\"Times,serif\" font-size=\"14.00\" fill=\"#000000\">value = [2843, 0, 1144]</text>\n<text text-anchor=\"middle\" x=\"361\" y=\"-230.8\" font-family=\"Times,serif\" font-size=\"14.00\" fill=\"#000000\">class = high</text>\n</g>\n<!-- 2&#45;&gt;4 -->\n<g id=\"edge4\" class=\"edge\">\n<title>2&#45;&gt;4</title>\n<path fill=\"none\" stroke=\"#000000\" d=\"M296.6254,-341.8796C304.118,-332.8733 312.1119,-323.2644 319.8279,-313.9897\"/>\n<polygon fill=\"#000000\" stroke=\"#000000\" points=\"322.5219,-316.224 326.2268,-306.2981 317.1407,-311.7472 322.5219,-316.224\"/>\n</g>\n<!-- 5 -->\n<g id=\"node6\" class=\"node\">\n<title>5</title>\n<polygon fill=\"#8139e5\" stroke=\"#000000\" points=\"329.5,-179.5 204.5,-179.5 204.5,-111.5 329.5,-111.5 329.5,-179.5\"/>\n<text text-anchor=\"middle\" x=\"267\" y=\"-164.3\" font-family=\"Times,serif\" font-size=\"14.00\" fill=\"#000000\">gini = 0.0</text>\n<text text-anchor=\"middle\" x=\"267\" y=\"-149.3\" font-family=\"Times,serif\" font-size=\"14.00\" fill=\"#000000\">samples = 801</text>\n<text text-anchor=\"middle\" x=\"267\" y=\"-134.3\" font-family=\"Times,serif\" font-size=\"14.00\" fill=\"#000000\">value = [0, 0, 801]</text>\n<text text-anchor=\"middle\" x=\"267\" y=\"-119.3\" font-family=\"Times,serif\" font-size=\"14.00\" fill=\"#000000\">class = moderate</text>\n</g>\n<!-- 4&#45;&gt;5 -->\n<g id=\"edge5\" class=\"edge\">\n<title>4&#45;&gt;5</title>\n<path fill=\"none\" stroke=\"#000000\" d=\"M328.1234,-222.8796C319.1768,-211.5536 309.4776,-199.2748 300.4971,-187.9058\"/>\n<polygon fill=\"#000000\" stroke=\"#000000\" points=\"303.051,-185.4926 294.1059,-179.8149 297.558,-189.8316 303.051,-185.4926\"/>\n</g>\n<!-- 6 -->\n<g id=\"node7\" class=\"node\">\n<title>6</title>\n<polygon fill=\"#e89051\" stroke=\"#000000\" points=\"562,-187 348,-187 348,-104 562,-104 562,-187\"/>\n<text text-anchor=\"middle\" x=\"455\" y=\"-171.8\" font-family=\"Times,serif\" font-size=\"14.00\" fill=\"#000000\">Estimated Revenue &gt;= 1M &lt;= 0.5</text>\n<text text-anchor=\"middle\" x=\"455\" y=\"-156.8\" font-family=\"Times,serif\" font-size=\"14.00\" fill=\"#000000\">gini = 0.192</text>\n<text text-anchor=\"middle\" x=\"455\" y=\"-141.8\" font-family=\"Times,serif\" font-size=\"14.00\" fill=\"#000000\">samples = 3186</text>\n<text text-anchor=\"middle\" x=\"455\" y=\"-126.8\" font-family=\"Times,serif\" font-size=\"14.00\" fill=\"#000000\">value = [2843, 0, 343]</text>\n<text text-anchor=\"middle\" x=\"455\" y=\"-111.8\" font-family=\"Times,serif\" font-size=\"14.00\" fill=\"#000000\">class = high</text>\n</g>\n<!-- 4&#45;&gt;6 -->\n<g id=\"edge6\" class=\"edge\">\n<title>4&#45;&gt;6</title>\n<path fill=\"none\" stroke=\"#000000\" d=\"M393.8766,-222.8796C400.9197,-213.9633 408.4293,-204.4565 415.6874,-195.268\"/>\n<polygon fill=\"#000000\" stroke=\"#000000\" points=\"418.5309,-197.3147 421.983,-187.2981 413.0379,-192.9757 418.5309,-197.3147\"/>\n</g>\n<!-- 7 -->\n<g id=\"node8\" class=\"node\">\n<title>7</title>\n<polygon fill=\"#8139e5\" stroke=\"#000000\" points=\"443.5,-68 318.5,-68 318.5,0 443.5,0 443.5,-68\"/>\n<text text-anchor=\"middle\" x=\"381\" y=\"-52.8\" font-family=\"Times,serif\" font-size=\"14.00\" fill=\"#000000\">gini = 0.0</text>\n<text text-anchor=\"middle\" x=\"381\" y=\"-37.8\" font-family=\"Times,serif\" font-size=\"14.00\" fill=\"#000000\">samples = 343</text>\n<text text-anchor=\"middle\" x=\"381\" y=\"-22.8\" font-family=\"Times,serif\" font-size=\"14.00\" fill=\"#000000\">value = [0, 0, 343]</text>\n<text text-anchor=\"middle\" x=\"381\" y=\"-7.8\" font-family=\"Times,serif\" font-size=\"14.00\" fill=\"#000000\">class = moderate</text>\n</g>\n<!-- 6&#45;&gt;7 -->\n<g id=\"edge7\" class=\"edge\">\n<title>6&#45;&gt;7</title>\n<path fill=\"none\" stroke=\"#000000\" d=\"M427.4451,-103.9815C421.5285,-95.0666 415.2665,-85.6313 409.3213,-76.6734\"/>\n<polygon fill=\"#000000\" stroke=\"#000000\" points=\"412.186,-74.6602 403.74,-68.2637 406.3536,-78.5311 412.186,-74.6602\"/>\n</g>\n<!-- 8 -->\n<g id=\"node9\" class=\"node\">\n<title>8</title>\n<polygon fill=\"#e58139\" stroke=\"#000000\" points=\"594,-68 462,-68 462,0 594,0 594,-68\"/>\n<text text-anchor=\"middle\" x=\"528\" y=\"-52.8\" font-family=\"Times,serif\" font-size=\"14.00\" fill=\"#000000\">gini = 0.0</text>\n<text text-anchor=\"middle\" x=\"528\" y=\"-37.8\" font-family=\"Times,serif\" font-size=\"14.00\" fill=\"#000000\">samples = 2843</text>\n<text text-anchor=\"middle\" x=\"528\" y=\"-22.8\" font-family=\"Times,serif\" font-size=\"14.00\" fill=\"#000000\">value = [2843, 0, 0]</text>\n<text text-anchor=\"middle\" x=\"528\" y=\"-7.8\" font-family=\"Times,serif\" font-size=\"14.00\" fill=\"#000000\">class = high</text>\n</g>\n<!-- 6&#45;&gt;8 -->\n<g id=\"edge8\" class=\"edge\">\n<title>6&#45;&gt;8</title>\n<path fill=\"none\" stroke=\"#000000\" d=\"M482.1825,-103.9815C488.0192,-95.0666 494.1966,-85.6313 500.0614,-76.6734\"/>\n<polygon fill=\"#000000\" stroke=\"#000000\" points=\"503.0179,-78.5472 505.5673,-68.2637 497.1614,-74.7129 503.0179,-78.5472\"/>\n</g>\n</g>\n</svg>\n"
          },
          "metadata": {
            "tags": []
          },
          "execution_count": 498
        }
      ]
    },
    {
      "cell_type": "code",
      "metadata": {
        "id": "yFVzV1kKdVC2",
        "outputId": "9789a78e-2550-4757-c818-7aef7bdb636e",
        "colab": {
          "base_uri": "https://localhost:8080/",
          "height": 333
        }
      },
      "source": [
        "from sklearn.ensemble import RandomForestClassifier\n",
        "\n",
        "\n",
        "model_rf = make_pipeline(RandomForestClassifier(n_estimators = 10))\n",
        "param_grid = {'randomforestclassifier__max_depth':[1,2,3]}\n",
        "grid_rf = GridSearchCV(model_rf, param_grid = param_grid, return_train_score=True, cv = 10)\n",
        "grid_rf.fit(X_train_imputed,y_train_imputed)\n",
        " \n",
        "rf_vals = [d['randomforestclassifier__max_depth'] for d in grid_rf.cv_results_['params']]\n",
        "# plot\n",
        "plot_graph(rf_vals, grid_rf.cv_results_['mean_test_score'].tolist(), 'Random Forest Classifier  model', 'Max Depth', 'Accuracy', 0, None)\n",
        "\n",
        "\n",
        "print(\"Random Forest Regressor - best parameters: {}\",grid_rf.best_params_)\n",
        "print(\"Random Forest Regressor - best mean cross-validation score\",grid_rf.best_score_)"
      ],
      "execution_count": null,
      "outputs": [
        {
          "output_type": "stream",
          "text": [
            "Random Forest Regressor - best parameters: {} {'randomforestclassifier__max_depth': 3}\n",
            "Random Forest Regressor - best mean cross-validation score 0.36283668972996097\n"
          ],
          "name": "stdout"
        },
        {
          "output_type": "display_data",
          "data": {
            "image/png": "[encoded data removed]",
            "text/plain": [
              "<Figure size 432x288 with 1 Axes>"
            ]
          },
          "metadata": {
            "tags": []
          }
        }
      ]
    },
    {
      "cell_type": "code",
      "metadata": {
        "id": "jWv7q0ijiR6U",
        "outputId": "7655705d-7266-4d0f-c563-509a2d31a476",
        "colab": {
          "base_uri": "https://localhost:8080/",
          "height": 34
        }
      },
      "source": [
        "rf = RandomForestClassifier(max_depth = 2)\n",
        "rf = rf.fit(X_train_imputed, y_train_imputed)\n",
        "score = rf.score(X_test_imputed, y_test_imputed)\n",
        "print(score)"
      ],
      "execution_count": null,
      "outputs": [
        {
          "output_type": "stream",
          "text": [
            "0.7862679955703211\n"
          ],
          "name": "stdout"
        }
      ]
    },
    {
      "cell_type": "code",
      "metadata": {
        "id": "QGqcfesIq_xt",
        "outputId": "90422410-906e-4ea4-f7d4-ca84b7d1700e",
        "colab": {
          "base_uri": "https://localhost:8080/",
          "height": 439
        }
      },
      "source": [
        "fimport graphviz\n",
        "# DOT data\n",
        "dot_data = tree.export_graphviz(rf.estimators_[3], out_file=None, \n",
        "                                feature_names=feature_cols,  \n",
        "                                class_names=['high','moderate','low'],\n",
        "                                filled=True)\n",
        "\n",
        "# Draw graph\n",
        "graph = graphviz.Source(dot_data, format=\"png\") \n",
        "graph"
      ],
      "execution_count": null,
      "outputs": [
        {
          "output_type": "execute_result",
          "data": {
            "text/plain": [
              "<graphviz.files.Source at 0x7f4eceda9550>"
            ],
            "image/svg+xml": "<?xml version=\"1.0\" encoding=\"UTF-8\" standalone=\"no\"?>\n<!DOCTYPE svg PUBLIC \"-//W3C//DTD SVG 1.1//EN\"\n \"http://www.w3.org/Graphics/SVG/1.1/DTD/svg11.dtd\">\n<!-- Generated by graphviz version 2.40.1 (20161225.0304)\n -->\n<!-- Title: Tree Pages: 1 -->\n<svg width=\"681pt\" height=\"314pt\"\n viewBox=\"0.00 0.00 681.00 314.00\" xmlns=\"http://www.w3.org/2000/svg\" xmlns:xlink=\"http://www.w3.org/1999/xlink\">\n<g id=\"graph0\" class=\"graph\" transform=\"scale(1 1) rotate(0) translate(4 310)\">\n<title>Tree</title>\n<polygon fill=\"#ffffff\" stroke=\"transparent\" points=\"-4,4 -4,-310 677,-310 677,4 -4,4\"/>\n<!-- 0 -->\n<g id=\"node1\" class=\"node\">\n<title>0</title>\n<polygon fill=\"#fffefe\" stroke=\"#000000\" points=\"441,-306 220,-306 220,-223 441,-223 441,-306\"/>\n<text text-anchor=\"middle\" x=\"330.5\" y=\"-290.8\" font-family=\"Times,serif\" font-size=\"14.00\" fill=\"#000000\">Estimated Revenue &gt;= 1M &lt;= 0.99</text>\n<text text-anchor=\"middle\" x=\"330.5\" y=\"-275.8\" font-family=\"Times,serif\" font-size=\"14.00\" fill=\"#000000\">gini = 0.667</text>\n<text text-anchor=\"middle\" x=\"330.5\" y=\"-260.8\" font-family=\"Times,serif\" font-size=\"14.00\" fill=\"#000000\">samples = 6442</text>\n<text text-anchor=\"middle\" x=\"330.5\" y=\"-245.8\" font-family=\"Times,serif\" font-size=\"14.00\" fill=\"#000000\">value = [3451, 3417, 3368]</text>\n<text text-anchor=\"middle\" x=\"330.5\" y=\"-230.8\" font-family=\"Times,serif\" font-size=\"14.00\" fill=\"#000000\">class = high</text>\n</g>\n<!-- 1 -->\n<g id=\"node2\" class=\"node\">\n<title>1</title>\n<polygon fill=\"#fbf9fe\" stroke=\"#000000\" points=\"322.5,-187 116.5,-187 116.5,-104 322.5,-104 322.5,-187\"/>\n<text text-anchor=\"middle\" x=\"219.5\" y=\"-171.8\" font-family=\"Times,serif\" font-size=\"14.00\" fill=\"#000000\">Number of Exits (IPO) &lt;= 2.812</text>\n<text text-anchor=\"middle\" x=\"219.5\" y=\"-156.8\" font-family=\"Times,serif\" font-size=\"14.00\" fill=\"#000000\">gini = 0.663</text>\n<text text-anchor=\"middle\" x=\"219.5\" y=\"-141.8\" font-family=\"Times,serif\" font-size=\"14.00\" fill=\"#000000\">samples = 2137</text>\n<text text-anchor=\"middle\" x=\"219.5\" y=\"-126.8\" font-family=\"Times,serif\" font-size=\"14.00\" fill=\"#000000\">value = [967, 1171, 1243]</text>\n<text text-anchor=\"middle\" x=\"219.5\" y=\"-111.8\" font-family=\"Times,serif\" font-size=\"14.00\" fill=\"#000000\">class = low</text>\n</g>\n<!-- 0&#45;&gt;1 -->\n<g id=\"edge1\" class=\"edge\">\n<title>0&#45;&gt;1</title>\n<path fill=\"none\" stroke=\"#000000\" d=\"M291.6776,-222.8796C283.1927,-213.7832 274.1346,-204.0722 265.4032,-194.7116\"/>\n<polygon fill=\"#000000\" stroke=\"#000000\" points=\"267.8686,-192.2233 258.4881,-187.2981 262.7497,-196.9981 267.8686,-192.2233\"/>\n<text text-anchor=\"middle\" x=\"257.6191\" y=\"-208.583\" font-family=\"Times,serif\" font-size=\"14.00\" fill=\"#000000\">True</text>\n</g>\n<!-- 4 -->\n<g id=\"node5\" class=\"node\">\n<title>4</title>\n<polygon fill=\"#fef8f5\" stroke=\"#000000\" points=\"542.5,-187 340.5,-187 340.5,-104 542.5,-104 542.5,-187\"/>\n<text text-anchor=\"middle\" x=\"441.5\" y=\"-171.8\" font-family=\"Times,serif\" font-size=\"14.00\" fill=\"#000000\">Number of Investments &lt;= 10.5</text>\n<text text-anchor=\"middle\" x=\"441.5\" y=\"-156.8\" font-family=\"Times,serif\" font-size=\"14.00\" fill=\"#000000\">gini = 0.665</text>\n<text text-anchor=\"middle\" x=\"441.5\" y=\"-141.8\" font-family=\"Times,serif\" font-size=\"14.00\" fill=\"#000000\">samples = 4305</text>\n<text text-anchor=\"middle\" x=\"441.5\" y=\"-126.8\" font-family=\"Times,serif\" font-size=\"14.00\" fill=\"#000000\">value = [2484, 2246, 2125]</text>\n<text text-anchor=\"middle\" x=\"441.5\" y=\"-111.8\" font-family=\"Times,serif\" font-size=\"14.00\" fill=\"#000000\">class = high</text>\n</g>\n<!-- 0&#45;&gt;4 -->\n<g id=\"edge4\" class=\"edge\">\n<title>0&#45;&gt;4</title>\n<path fill=\"none\" stroke=\"#000000\" d=\"M369.3224,-222.8796C377.8073,-213.7832 386.8654,-204.0722 395.5968,-194.7116\"/>\n<polygon fill=\"#000000\" stroke=\"#000000\" points=\"398.2503,-196.9981 402.5119,-187.2981 393.1314,-192.2233 398.2503,-196.9981\"/>\n<text text-anchor=\"middle\" x=\"403.3809\" y=\"-208.583\" font-family=\"Times,serif\" font-size=\"14.00\" fill=\"#000000\">False</text>\n</g>\n<!-- 2 -->\n<g id=\"node3\" class=\"node\">\n<title>2</title>\n<polygon fill=\"#faf8fe\" stroke=\"#000000\" points=\"169,-68 0,-68 0,0 169,0 169,-68\"/>\n<text text-anchor=\"middle\" x=\"84.5\" y=\"-52.8\" font-family=\"Times,serif\" font-size=\"14.00\" fill=\"#000000\">gini = 0.663</text>\n<text text-anchor=\"middle\" x=\"84.5\" y=\"-37.8\" font-family=\"Times,serif\" font-size=\"14.00\" fill=\"#000000\">samples = 2131</text>\n<text text-anchor=\"middle\" x=\"84.5\" y=\"-22.8\" font-family=\"Times,serif\" font-size=\"14.00\" fill=\"#000000\">value = [966, 1162, 1243]</text>\n<text text-anchor=\"middle\" x=\"84.5\" y=\"-7.8\" font-family=\"Times,serif\" font-size=\"14.00\" fill=\"#000000\">class = low</text>\n</g>\n<!-- 1&#45;&gt;2 -->\n<g id=\"edge2\" class=\"edge\">\n<title>1&#45;&gt;2</title>\n<path fill=\"none\" stroke=\"#000000\" d=\"M169.231,-103.9815C157.6582,-94.4232 145.3611,-84.2668 133.8287,-74.7419\"/>\n<polygon fill=\"#000000\" stroke=\"#000000\" points=\"135.9243,-71.9332 125.9852,-68.2637 131.4666,-77.3304 135.9243,-71.9332\"/>\n</g>\n<!-- 3 -->\n<g id=\"node4\" class=\"node\">\n<title>3</title>\n<polygon fill=\"#4fe88f\" stroke=\"#000000\" points=\"298,-68 187,-68 187,0 298,0 298,-68\"/>\n<text text-anchor=\"middle\" x=\"242.5\" y=\"-52.8\" font-family=\"Times,serif\" font-size=\"14.00\" fill=\"#000000\">gini = 0.18</text>\n<text text-anchor=\"middle\" x=\"242.5\" y=\"-37.8\" font-family=\"Times,serif\" font-size=\"14.00\" fill=\"#000000\">samples = 6</text>\n<text text-anchor=\"middle\" x=\"242.5\" y=\"-22.8\" font-family=\"Times,serif\" font-size=\"14.00\" fill=\"#000000\">value = [1, 9, 0]</text>\n<text text-anchor=\"middle\" x=\"242.5\" y=\"-7.8\" font-family=\"Times,serif\" font-size=\"14.00\" fill=\"#000000\">class = moderate</text>\n</g>\n<!-- 1&#45;&gt;3 -->\n<g id=\"edge3\" class=\"edge\">\n<title>1&#45;&gt;3</title>\n<path fill=\"none\" stroke=\"#000000\" d=\"M228.0644,-103.9815C229.8085,-95.5261 231.6492,-86.6026 233.4109,-78.0623\"/>\n<polygon fill=\"#000000\" stroke=\"#000000\" points=\"236.8397,-78.7646 235.4322,-68.2637 229.984,-77.3504 236.8397,-78.7646\"/>\n</g>\n<!-- 5 -->\n<g id=\"node6\" class=\"node\">\n<title>5</title>\n<polygon fill=\"#e99558\" stroke=\"#000000\" points=\"478,-68 361,-68 361,0 478,0 478,-68\"/>\n<text text-anchor=\"middle\" x=\"419.5\" y=\"-52.8\" font-family=\"Times,serif\" font-size=\"14.00\" fill=\"#000000\">gini = 0.237</text>\n<text text-anchor=\"middle\" x=\"419.5\" y=\"-37.8\" font-family=\"Times,serif\" font-size=\"14.00\" fill=\"#000000\">samples = 26</text>\n<text text-anchor=\"middle\" x=\"419.5\" y=\"-22.8\" font-family=\"Times,serif\" font-size=\"14.00\" fill=\"#000000\">value = [44, 7, 0]</text>\n<text text-anchor=\"middle\" x=\"419.5\" y=\"-7.8\" font-family=\"Times,serif\" font-size=\"14.00\" fill=\"#000000\">class = high</text>\n</g>\n<!-- 4&#45;&gt;5 -->\n<g id=\"edge5\" class=\"edge\">\n<title>4&#45;&gt;5</title>\n<path fill=\"none\" stroke=\"#000000\" d=\"M433.308,-103.9815C431.6578,-95.618 429.9173,-86.7965 428.2489,-78.3409\"/>\n<polygon fill=\"#000000\" stroke=\"#000000\" points=\"431.6302,-77.397 426.2605,-68.2637 424.7626,-78.7521 431.6302,-77.397\"/>\n</g>\n<!-- 6 -->\n<g id=\"node7\" class=\"node\">\n<title>6</title>\n<polygon fill=\"#fef9f6\" stroke=\"#000000\" points=\"673,-68 496,-68 496,0 673,0 673,-68\"/>\n<text text-anchor=\"middle\" x=\"584.5\" y=\"-52.8\" font-family=\"Times,serif\" font-size=\"14.00\" fill=\"#000000\">gini = 0.666</text>\n<text text-anchor=\"middle\" x=\"584.5\" y=\"-37.8\" font-family=\"Times,serif\" font-size=\"14.00\" fill=\"#000000\">samples = 4279</text>\n<text text-anchor=\"middle\" x=\"584.5\" y=\"-22.8\" font-family=\"Times,serif\" font-size=\"14.00\" fill=\"#000000\">value = [2440, 2239, 2125]</text>\n<text text-anchor=\"middle\" x=\"584.5\" y=\"-7.8\" font-family=\"Times,serif\" font-size=\"14.00\" fill=\"#000000\">class = high</text>\n</g>\n<!-- 4&#45;&gt;6 -->\n<g id=\"edge6\" class=\"edge\">\n<title>4&#45;&gt;6</title>\n<path fill=\"none\" stroke=\"#000000\" d=\"M494.7479,-103.9815C507.1244,-94.3313 520.2828,-84.0714 532.6003,-74.4673\"/>\n<polygon fill=\"#000000\" stroke=\"#000000\" points=\"534.8225,-77.1728 540.5565,-68.2637 530.5182,-71.6525 534.8225,-77.1728\"/>\n</g>\n</g>\n</svg>\n"
          },
          "metadata": {
            "tags": []
          },
          "execution_count": 260
        }
      ]
    },
    {
      "cell_type": "code",
      "metadata": {
        "id": "ZwFHoqhdI5-o"
      },
      "source": [
        ""
      ],
      "execution_count": null,
      "outputs": []
    }
  ]
}